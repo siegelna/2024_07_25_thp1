{
 "cells": [
  {
   "cell_type": "code",
   "execution_count": 1,
   "metadata": {
    "vscode": {
     "languageId": "r"
    }
   },
   "outputs": [],
   "source": [
    "suppressPackageStartupMessages({\n",
    "    library(dplyr)\n",
    "    library(ggplot2)\n",
    "    library(biomaRt)\n",
    "    library(dplyr)\n",
    "})"
   ]
  },
  {
   "cell_type": "code",
   "execution_count": 24,
   "metadata": {
    "vscode": {
     "languageId": "r"
    }
   },
   "outputs": [
    {
     "data": {
      "text/html": [
       "<table class=\"dataframe\">\n",
       "<caption>A matrix: 6 × 1 of type dbl</caption>\n",
       "<thead>\n",
       "\t<tr><th></th><th scope=col>THP1_HAEMATOPOIETIC_AND_LYMPHOID_TISSUE</th></tr>\n",
       "</thead>\n",
       "<tbody>\n",
       "\t<tr><th scope=row>ENSG00000000003</th><td> 1.40</td></tr>\n",
       "\t<tr><th scope=row>ENSG00000000005</th><td> 0.00</td></tr>\n",
       "\t<tr><th scope=row>ENSG00000000419</th><td>55.70</td></tr>\n",
       "\t<tr><th scope=row>ENSG00000000457</th><td> 4.54</td></tr>\n",
       "\t<tr><th scope=row>ENSG00000000460</th><td>18.05</td></tr>\n",
       "\t<tr><th scope=row>ENSG00000000938</th><td> 7.24</td></tr>\n",
       "</tbody>\n",
       "</table>\n"
      ],
      "text/latex": [
       "A matrix: 6 × 1 of type dbl\n",
       "\\begin{tabular}{r|l}\n",
       "  & THP1\\_HAEMATOPOIETIC\\_AND\\_LYMPHOID\\_TISSUE\\\\\n",
       "\\hline\n",
       "\tENSG00000000003 &  1.40\\\\\n",
       "\tENSG00000000005 &  0.00\\\\\n",
       "\tENSG00000000419 & 55.70\\\\\n",
       "\tENSG00000000457 &  4.54\\\\\n",
       "\tENSG00000000460 & 18.05\\\\\n",
       "\tENSG00000000938 &  7.24\\\\\n",
       "\\end{tabular}\n"
      ],
      "text/markdown": [
       "\n",
       "A matrix: 6 × 1 of type dbl\n",
       "\n",
       "| <!--/--> | THP1_HAEMATOPOIETIC_AND_LYMPHOID_TISSUE |\n",
       "|---|---|\n",
       "| ENSG00000000003 |  1.40 |\n",
       "| ENSG00000000005 |  0.00 |\n",
       "| ENSG00000000419 | 55.70 |\n",
       "| ENSG00000000457 |  4.54 |\n",
       "| ENSG00000000460 | 18.05 |\n",
       "| ENSG00000000938 |  7.24 |\n",
       "\n"
      ],
      "text/plain": [
       "                THP1_HAEMATOPOIETIC_AND_LYMPHOID_TISSUE\n",
       "ENSG00000000003  1.40                                  \n",
       "ENSG00000000005  0.00                                  \n",
       "ENSG00000000419 55.70                                  \n",
       "ENSG00000000457  4.54                                  \n",
       "ENSG00000000460 18.05                                  \n",
       "ENSG00000000938  7.24                                  "
      ]
     },
     "metadata": {},
     "output_type": "display_data"
    }
   ],
   "source": [
    "# Counts\n",
    "counts <- read.table(\"CCLE_RNAseq_rsem_genes_tpm_20180929.txt\", header = TRUE, row.names = 1) %>%\n",
    "    dplyr::select(THP1_HAEMATOPOIETIC_AND_LYMPHOID_TISSUE)\n",
    "rownames(counts) <- gsub(\"\\\\..*\", \"\", rownames(counts))\n",
    "counts <- as.matrix(counts)\n",
    "head(counts)"
   ]
  },
  {
   "cell_type": "code",
   "execution_count": 16,
   "metadata": {
    "vscode": {
     "languageId": "r"
    }
   },
   "outputs": [
    {
     "name": "stderr",
     "output_type": "stream",
     "text": [
      "\n",
      "Batch submitting query [==>----------------------------]   8% eta:  2m\n",
      "\n",
      "Batch submitting query [====>--------------------------]  17% eta:  2m\n",
      "\n",
      "Batch submitting query [=======>-----------------------]  25% eta:  2m\n",
      "\n",
      "Batch submitting query [=========>---------------------]  33% eta:  2m\n",
      "\n",
      "Batch submitting query [============>------------------]  42% eta:  1m\n",
      "\n",
      "Batch submitting query [===============>---------------]  50% eta:  1m\n",
      "\n",
      "Batch submitting query [=================>-------------]  58% eta: 44s\n",
      "\n",
      "Batch submitting query [====================>----------]  67% eta: 34s\n",
      "\n",
      "Batch submitting query [======================>--------]  75% eta: 25s\n",
      "\n",
      "Batch submitting query [=========================>-----]  83% eta: 20s\n",
      "\n",
      "Batch submitting query [===========================>---]  92% eta:  9s\n",
      "                                                                      \n",
      "\n"
     ]
    },
    {
     "data": {
      "text/html": [
       "<table class=\"dataframe\">\n",
       "<caption>A data.frame: 6 × 2</caption>\n",
       "<thead>\n",
       "\t<tr><th></th><th scope=col>ensembl_gene_id</th><th scope=col>external_gene_name</th></tr>\n",
       "\t<tr><th></th><th scope=col>&lt;chr&gt;</th><th scope=col>&lt;chr&gt;</th></tr>\n",
       "</thead>\n",
       "<tbody>\n",
       "\t<tr><th scope=row>1</th><td>ENSG00000000003</td><td>TSPAN6</td></tr>\n",
       "\t<tr><th scope=row>2</th><td>ENSG00000000005</td><td>TNMD  </td></tr>\n",
       "\t<tr><th scope=row>3</th><td>ENSG00000000419</td><td>DPM1  </td></tr>\n",
       "\t<tr><th scope=row>4</th><td>ENSG00000000457</td><td>SCYL3 </td></tr>\n",
       "\t<tr><th scope=row>5</th><td>ENSG00000000460</td><td>FIRRM </td></tr>\n",
       "\t<tr><th scope=row>6</th><td>ENSG00000000938</td><td>FGR   </td></tr>\n",
       "</tbody>\n",
       "</table>\n"
      ],
      "text/latex": [
       "A data.frame: 6 × 2\n",
       "\\begin{tabular}{r|ll}\n",
       "  & ensembl\\_gene\\_id & external\\_gene\\_name\\\\\n",
       "  & <chr> & <chr>\\\\\n",
       "\\hline\n",
       "\t1 & ENSG00000000003 & TSPAN6\\\\\n",
       "\t2 & ENSG00000000005 & TNMD  \\\\\n",
       "\t3 & ENSG00000000419 & DPM1  \\\\\n",
       "\t4 & ENSG00000000457 & SCYL3 \\\\\n",
       "\t5 & ENSG00000000460 & FIRRM \\\\\n",
       "\t6 & ENSG00000000938 & FGR   \\\\\n",
       "\\end{tabular}\n"
      ],
      "text/markdown": [
       "\n",
       "A data.frame: 6 × 2\n",
       "\n",
       "| <!--/--> | ensembl_gene_id &lt;chr&gt; | external_gene_name &lt;chr&gt; |\n",
       "|---|---|---|\n",
       "| 1 | ENSG00000000003 | TSPAN6 |\n",
       "| 2 | ENSG00000000005 | TNMD   |\n",
       "| 3 | ENSG00000000419 | DPM1   |\n",
       "| 4 | ENSG00000000457 | SCYL3  |\n",
       "| 5 | ENSG00000000460 | FIRRM  |\n",
       "| 6 | ENSG00000000938 | FGR    |\n",
       "\n"
      ],
      "text/plain": [
       "  ensembl_gene_id external_gene_name\n",
       "1 ENSG00000000003 TSPAN6            \n",
       "2 ENSG00000000005 TNMD              \n",
       "3 ENSG00000000419 DPM1              \n",
       "4 ENSG00000000457 SCYL3             \n",
       "5 ENSG00000000460 FIRRM             \n",
       "6 ENSG00000000938 FGR               "
      ]
     },
     "metadata": {},
     "output_type": "display_data"
    }
   ],
   "source": [
    "# mart <- useMart(\"ensembl\", dataset = \"hsapiens_gene_ensembl\")\n",
    "ensembl_annot <- getBM(attributes=c(\"ensembl_gene_id\",\"external_gene_name\"),\n",
    "                       filters = \"ensembl_gene_id\",\n",
    "                       values = rownames(counts), \n",
    "                       mart = mart)\n",
    "head(ensembl_annot)"
   ]
  },
  {
   "cell_type": "code",
   "execution_count": 28,
   "metadata": {
    "vscode": {
     "languageId": "r"
    }
   },
   "outputs": [
    {
     "data": {
      "text/html": [
       "<table class=\"dataframe\">\n",
       "<caption>A data.frame: 6 × 1</caption>\n",
       "<thead>\n",
       "\t<tr><th></th><th scope=col>THP1_HAEMATOPOIETIC_AND_LYMPHOID_TISSUE</th></tr>\n",
       "\t<tr><th></th><th scope=col>&lt;dbl&gt;</th></tr>\n",
       "</thead>\n",
       "<tbody>\n",
       "\t<tr><th scope=row>TSPAN6</th><td> 1.40</td></tr>\n",
       "\t<tr><th scope=row>TNMD</th><td> 0.00</td></tr>\n",
       "\t<tr><th scope=row>DPM1</th><td>55.70</td></tr>\n",
       "\t<tr><th scope=row>SCYL3</th><td> 4.54</td></tr>\n",
       "\t<tr><th scope=row>FIRRM</th><td>18.05</td></tr>\n",
       "\t<tr><th scope=row>FGR</th><td> 7.24</td></tr>\n",
       "</tbody>\n",
       "</table>\n"
      ],
      "text/latex": [
       "A data.frame: 6 × 1\n",
       "\\begin{tabular}{r|l}\n",
       "  & THP1\\_HAEMATOPOIETIC\\_AND\\_LYMPHOID\\_TISSUE\\\\\n",
       "  & <dbl>\\\\\n",
       "\\hline\n",
       "\tTSPAN6 &  1.40\\\\\n",
       "\tTNMD &  0.00\\\\\n",
       "\tDPM1 & 55.70\\\\\n",
       "\tSCYL3 &  4.54\\\\\n",
       "\tFIRRM & 18.05\\\\\n",
       "\tFGR &  7.24\\\\\n",
       "\\end{tabular}\n"
      ],
      "text/markdown": [
       "\n",
       "A data.frame: 6 × 1\n",
       "\n",
       "| <!--/--> | THP1_HAEMATOPOIETIC_AND_LYMPHOID_TISSUE &lt;dbl&gt; |\n",
       "|---|---|\n",
       "| TSPAN6 |  1.40 |\n",
       "| TNMD |  0.00 |\n",
       "| DPM1 | 55.70 |\n",
       "| SCYL3 |  4.54 |\n",
       "| FIRRM | 18.05 |\n",
       "| FGR |  7.24 |\n",
       "\n"
      ],
      "text/plain": [
       "       THP1_HAEMATOPOIETIC_AND_LYMPHOID_TISSUE\n",
       "TSPAN6  1.40                                  \n",
       "TNMD    0.00                                  \n",
       "DPM1   55.70                                  \n",
       "SCYL3   4.54                                  \n",
       "FIRRM  18.05                                  \n",
       "FGR     7.24                                  "
      ]
     },
     "metadata": {},
     "output_type": "display_data"
    }
   ],
   "source": [
    "cols <- as.data.frame(rownames(counts))\n",
    "new_names <- left_join(cols, ensembl_annot, by = c(\"rownames(counts)\" = \"ensembl_gene_id\"))\n",
    "rownames(counts) <- new_names$external_gene_name\n",
    "count_df <- as.data.frame(counts)\n",
    "head(count_df)"
   ]
  },
  {
   "cell_type": "code",
   "execution_count": 29,
   "metadata": {
    "vscode": {
     "languageId": "r"
    }
   },
   "outputs": [],
   "source": [
    "genes <- c(\n",
    "  \"LILRB1\",\n",
    "  \"LILRB2\",\n",
    "  \"LILRB3\",\n",
    "  \"LAIR1\",\n",
    "  \"HLA-G\",\n",
    "  \"HAVCR2\",   # TIM3\n",
    "  \"CD33\",     # SIGLEC3\n",
    "  \"SIGLEC7\",\n",
    "  \"SIGLEC9\",\n",
    "  \"SIRPA\",\n",
    "  \"LILRB3\",\n",
    "  \"LILRB4\",\n",
    "  \"LILRB5\",\n",
    "  \"LILRA1\",\n",
    "  \"LILRA2\",\n",
    "  \"LILRA3\",\n",
    "  \"LILRA4\",\n",
    "  \"LILRA5\",\n",
    "  \"LILRA6\"\n",
    ")"
   ]
  },
  {
   "cell_type": "code",
   "execution_count": 34,
   "metadata": {
    "vscode": {
     "languageId": "r"
    }
   },
   "outputs": [
    {
     "data": {
      "text/html": [
       "<style>\n",
       ".list-inline {list-style: none; margin:0; padding: 0}\n",
       ".list-inline>li {display: inline-block}\n",
       ".list-inline>li:not(:last-child)::after {content: \"\\00b7\"; padding: 0 .5ex}\n",
       "</style>\n",
       "<ol class=list-inline><li>2.26</li><li>1.29</li><li>81.88</li><li>0</li><li>0.74</li><li>1.26</li><li>0.25</li><li>241</li><li>5.33</li><li>79.26</li><li>0.04</li><li>26.34</li><li>0.21</li><li>0.42</li><li>43.5</li><li>0</li></ol>\n"
      ],
      "text/latex": [
       "\\begin{enumerate*}\n",
       "\\item 2.26\n",
       "\\item 1.29\n",
       "\\item 81.88\n",
       "\\item 0\n",
       "\\item 0.74\n",
       "\\item 1.26\n",
       "\\item 0.25\n",
       "\\item 241\n",
       "\\item 5.33\n",
       "\\item 79.26\n",
       "\\item 0.04\n",
       "\\item 26.34\n",
       "\\item 0.21\n",
       "\\item 0.42\n",
       "\\item 43.5\n",
       "\\item 0\n",
       "\\end{enumerate*}\n"
      ],
      "text/markdown": [
       "1. 2.26\n",
       "2. 1.29\n",
       "3. 81.88\n",
       "4. 0\n",
       "5. 0.74\n",
       "6. 1.26\n",
       "7. 0.25\n",
       "8. 241\n",
       "9. 5.33\n",
       "10. 79.26\n",
       "11. 0.04\n",
       "12. 26.34\n",
       "13. 0.21\n",
       "14. 0.42\n",
       "15. 43.5\n",
       "16. 0\n",
       "\n",
       "\n"
      ],
      "text/plain": [
       " [1]   2.26   1.29  81.88   0.00   0.74   1.26   0.25 241.00   5.33  79.26\n",
       "[11]   0.04  26.34   0.21   0.42  43.50   0.00"
      ]
     },
     "metadata": {},
     "output_type": "display_data"
    }
   ],
   "source": [
    "filtered_df <- count_df[rownames(count_df) %in% genes, ]\n",
    "filtered_df"
   ]
  },
  {
   "cell_type": "code",
   "execution_count": 46,
   "metadata": {
    "vscode": {
     "languageId": "r"
    }
   },
   "outputs": [
    {
     "data": {
      "text/html": [
       "<table class=\"dataframe\">\n",
       "<caption>A data.frame: 16 × 1</caption>\n",
       "<thead>\n",
       "\t<tr><th></th><th scope=col>THP1 Counts (tpm)</th></tr>\n",
       "\t<tr><th></th><th scope=col>&lt;dbl&gt;</th></tr>\n",
       "</thead>\n",
       "<tbody>\n",
       "\t<tr><th scope=row>LILRA1</th><td>  1.29</td></tr>\n",
       "\t<tr><th scope=row>LILRA2</th><td> 43.50</td></tr>\n",
       "\t<tr><th scope=row>LILRA4</th><td>  0.42</td></tr>\n",
       "\t<tr><th scope=row>LILRA5</th><td>  0.04</td></tr>\n",
       "\t<tr><th scope=row>LILRA6</th><td>  0.00</td></tr>\n",
       "\t<tr><th scope=row>LILRB1</th><td>  2.26</td></tr>\n",
       "\t<tr><th scope=row>LILRB2</th><td>  1.26</td></tr>\n",
       "\t<tr><th scope=row>LILRB3</th><td>  0.21</td></tr>\n",
       "\t<tr><th scope=row>LILRB4</th><td> 79.26</td></tr>\n",
       "\t<tr><th scope=row>LILRB5</th><td>  0.00</td></tr>\n",
       "\t<tr><th scope=row>CD33</th><td> 81.88</td></tr>\n",
       "\t<tr><th scope=row>HAVCR2</th><td>  0.25</td></tr>\n",
       "\t<tr><th scope=row>LAIR1</th><td>241.00</td></tr>\n",
       "\t<tr><th scope=row>SIGLEC7</th><td>  5.33</td></tr>\n",
       "\t<tr><th scope=row>SIGLEC9</th><td>  0.74</td></tr>\n",
       "\t<tr><th scope=row>SIRPA</th><td> 26.34</td></tr>\n",
       "</tbody>\n",
       "</table>\n"
      ],
      "text/latex": [
       "A data.frame: 16 × 1\n",
       "\\begin{tabular}{r|l}\n",
       "  & THP1 Counts (tpm)\\\\\n",
       "  & <dbl>\\\\\n",
       "\\hline\n",
       "\tLILRA1 &   1.29\\\\\n",
       "\tLILRA2 &  43.50\\\\\n",
       "\tLILRA4 &   0.42\\\\\n",
       "\tLILRA5 &   0.04\\\\\n",
       "\tLILRA6 &   0.00\\\\\n",
       "\tLILRB1 &   2.26\\\\\n",
       "\tLILRB2 &   1.26\\\\\n",
       "\tLILRB3 &   0.21\\\\\n",
       "\tLILRB4 &  79.26\\\\\n",
       "\tLILRB5 &   0.00\\\\\n",
       "\tCD33 &  81.88\\\\\n",
       "\tHAVCR2 &   0.25\\\\\n",
       "\tLAIR1 & 241.00\\\\\n",
       "\tSIGLEC7 &   5.33\\\\\n",
       "\tSIGLEC9 &   0.74\\\\\n",
       "\tSIRPA &  26.34\\\\\n",
       "\\end{tabular}\n"
      ],
      "text/markdown": [
       "\n",
       "A data.frame: 16 × 1\n",
       "\n",
       "| <!--/--> | THP1 Counts (tpm) &lt;dbl&gt; |\n",
       "|---|---|\n",
       "| LILRA1 |   1.29 |\n",
       "| LILRA2 |  43.50 |\n",
       "| LILRA4 |   0.42 |\n",
       "| LILRA5 |   0.04 |\n",
       "| LILRA6 |   0.00 |\n",
       "| LILRB1 |   2.26 |\n",
       "| LILRB2 |   1.26 |\n",
       "| LILRB3 |   0.21 |\n",
       "| LILRB4 |  79.26 |\n",
       "| LILRB5 |   0.00 |\n",
       "| CD33 |  81.88 |\n",
       "| HAVCR2 |   0.25 |\n",
       "| LAIR1 | 241.00 |\n",
       "| SIGLEC7 |   5.33 |\n",
       "| SIGLEC9 |   0.74 |\n",
       "| SIRPA |  26.34 |\n",
       "\n"
      ],
      "text/plain": [
       "        THP1 Counts (tpm)\n",
       "LILRA1    1.29           \n",
       "LILRA2   43.50           \n",
       "LILRA4    0.42           \n",
       "LILRA5    0.04           \n",
       "LILRA6    0.00           \n",
       "LILRB1    2.26           \n",
       "LILRB2    1.26           \n",
       "LILRB3    0.21           \n",
       "LILRB4   79.26           \n",
       "LILRB5    0.00           \n",
       "CD33     81.88           \n",
       "HAVCR2    0.25           \n",
       "LAIR1   241.00           \n",
       "SIGLEC7   5.33           \n",
       "SIGLEC9   0.74           \n",
       "SIRPA    26.34           "
      ]
     },
     "metadata": {},
     "output_type": "display_data"
    }
   ],
   "source": [
    "filtered_df <- count_df %>%\n",
    "    dplyr::filter(rownames(.) %in% genes)%>%\n",
    "    dplyr::mutate(is_lil = grepl(\"^LIL\", rownames(.))) %>% \n",
    "    dplyr::arrange(desc(is_lil), rownames(.)) %>%\n",
    "    dplyr::select(-is_lil) %>%\n",
    "    dplyr::rename(`THP1 Counts (tpm)` = THP1_HAEMATOPOIETIC_AND_LYMPHOID_TISSUE)\n",
    "filtered_df"
   ]
  },
  {
   "cell_type": "code",
   "execution_count": 45,
   "metadata": {
    "vscode": {
     "languageId": "r"
    }
   },
   "outputs": [],
   "source": [
    "write.table(filtered_df, \"result.csv\", sep = \",\", row.names = TRUE)"
   ]
  }
 ],
 "metadata": {
  "kernelspec": {
   "display_name": "R",
   "language": "R",
   "name": "ir"
  },
  "language_info": {
   "codemirror_mode": "r",
   "file_extension": ".r",
   "mimetype": "text/x-r-source",
   "name": "R",
   "pygments_lexer": "r",
   "version": "4.3.3"
  }
 },
 "nbformat": 4,
 "nbformat_minor": 2
}
